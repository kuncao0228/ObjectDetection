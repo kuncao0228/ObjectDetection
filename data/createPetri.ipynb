{
 "cells": [
  {
   "cell_type": "code",
   "execution_count": 39,
   "metadata": {},
   "outputs": [
    {
     "name": "stdout",
     "output_type": "stream",
     "text": [
      "The autoreload extension is already loaded. To reload it, use:\n",
      "  %reload_ext autoreload\n"
     ]
    }
   ],
   "source": [
    "import graphviz\n",
    "from graphviz import Digraph\n",
    "import csv\n",
    "import numpy as np\n",
    "import util\n",
    "from util import createPetri\n",
    "from util import parsePlainFile\n",
    "from util import remove_nodes\n",
    "from util import add_nodes\n",
    "from util import offsetEquation\n",
    "from util import add_boxes\n",
    "import os\n",
    "from PIL import Image\n",
    "import matplotlib.pyplot as plt\n",
    "from tqdm import tqdm\n",
    "\n",
    "%load_ext autoreload\n",
    "%autoreload 2"
   ]
  },
  {
   "cell_type": "code",
   "execution_count": 11,
   "metadata": {},
   "outputs": [
    {
     "name": "stderr",
     "output_type": "stream",
     "text": [
      "[nltk_data] Downloading package words to /Users/shivam/nltk_data...\n",
      "[nltk_data]   Package words is already up-to-date!\n"
     ]
    }
   ],
   "source": [
    "import nltk\n",
    "nltk.download('words')\n",
    "from nltk.corpus import words\n",
    "word_list = words.words()"
   ]
  },
  {
   "cell_type": "code",
   "execution_count": 12,
   "metadata": {},
   "outputs": [],
   "source": [
    "if not os.path.isdir('data'):\n",
    "    os.mkdir('data')\n",
    "    \n",
    "if not os.path.isdir('descriptions'):\n",
    "    os.mkdir('descriptions')\n",
    "\n",
    "if not os.path.isdir('plain_data'):\n",
    "    os.mkdir('plain_data')\n",
    "    \n",
    "if not os.path.isdir('edge_data'):\n",
    "    os.mkdir('edge_data')\n",
    "    \n",
    "if not os.path.isdir('mask_data'):\n",
    "    os.mkdir('mask_data')"
   ]
  },
  {
   "cell_type": "code",
   "execution_count": 15,
   "metadata": {},
   "outputs": [
    {
     "name": "stdout",
     "output_type": "stream",
     "text": [
      "2\n",
      "3\n",
      "4\n",
      "5\n",
      "6\n",
      "7\n"
     ]
    }
   ],
   "source": [
    "maxNodes = 8\n",
    "count = 0\n",
    "NO_Samples = 100\n",
    "for i in range(2, maxNodes):\n",
    "    print (i)\n",
    "    for j in range(NO_Samples):\n",
    "        ranInts = np.random.randint(len(word_list), size=i)\n",
    "        word_list = np.asarray(word_list)\n",
    "        words = word_list[ranInts]\n",
    "        createPetri(words, count)\n",
    "        count += 1"
   ]
  },
  {
   "cell_type": "code",
   "execution_count": 20,
   "metadata": {},
   "outputs": [],
   "source": [
    "import shutil\n",
    "\n",
    "for i in os.listdir('data'):\n",
    "    if \".png\" not in i:\n",
    "        os.remove(os.path.join('data', i))\n",
    "        \n",
    "for i in os.listdir('plain_data'):\n",
    "    if \".plain\" not in i:\n",
    "        os.remove(os.path.join('plain_data', i))"
   ]
  },
  {
   "cell_type": "code",
   "execution_count": 45,
   "metadata": {},
   "outputs": [
    {
     "name": "stderr",
     "output_type": "stream",
     "text": [
      "100%|██████████| 600/600 [01:10<00:00,  8.54it/s]\n"
     ]
    }
   ],
   "source": [
    "for i in tqdm(os.listdir('plain_data'),position=0, leave=True):\n",
    "\n",
    "#     print (i)\n",
    "    file_id = i.split(\".\")[0]\n",
    "    filePath = os.path.join('plain_data', i)\n",
    "    offset_y, node_x_list, node_y_list, node_rx_list, node_ry_list, node_type_list = util.parsePlainFile(filePath)\n",
    "    \n",
    "    graphFile = os.path.join('data', str(file_id) + \".png\")\n",
    "    im = Image.open(graphFile)\n",
    "    im = im.convert('1')\n",
    "    edge_array = im\n",
    "    for i in range(len(node_x_list)):\n",
    "        edge_array = remove_nodes(offsetEquation(node_x_list[i]),\\\n",
    "                                 offsetEquation(offset_y-node_y_list[i]),\\\n",
    "                                 node_rx_list[i],\\\n",
    "                                 node_ry_list[i], np.array(edge_array), node_type=node_type_list[i] )\n",
    "    edge_mask = 1 - np.uint8(edge_array)\n",
    "    \n",
    "    full_mask_elliptical = im\n",
    "    for i in range(len(node_x_list)):\n",
    "        if node_type_list[i] == \"ellipse\":\n",
    "            full_mask_elliptical = add_nodes(offsetEquation(node_x_list[i]),\\\n",
    "                                     offsetEquation(offset_y-node_y_list[i]),\\\n",
    "                                     node_rx_list[i],\\\n",
    "                                     node_ry_list[i], np.array(full_mask_elliptical))\n",
    "        else:\n",
    "            full_mask_elliptical = remove_nodes(offsetEquation(node_x_list[i]),\\\n",
    "                                     offsetEquation(offset_y-node_y_list[i]),\\\n",
    "                                     node_rx_list[i],\\\n",
    "                                     node_ry_list[i], np.array(full_mask_elliptical),node_type=node_type_list[i])\n",
    "    node_elliptical_mask = np.uint8(edge_array) - np.uint8(full_mask_elliptical)\n",
    "    \n",
    "    full_mask_box = im\n",
    "    for i in range(len(node_x_list)):\n",
    "        if node_type_list[i] == \"box\":\n",
    "            full_mask_box = add_boxes(offsetEquation(node_x_list[i]),\\\n",
    "                                     offsetEquation(offset_y-node_y_list[i]),\\\n",
    "                                     node_rx_list[i],\\\n",
    "                                     node_ry_list[i], np.array(full_mask_box))\n",
    "        else:\n",
    "            full_mask_box = remove_nodes(offsetEquation(node_x_list[i]),\\\n",
    "                                     offsetEquation(offset_y-node_y_list[i]),\\\n",
    "                                     node_rx_list[i],\\\n",
    "                                     node_ry_list[i], np.array(full_mask_box),node_type=node_type_list[i])\n",
    "    node_box_mask = np.uint8(edge_array) - np.uint8(full_mask_box)\n",
    "    \n",
    "    full_mask = im\n",
    "    for i in range(len(node_x_list)):\n",
    "        if node_type_list[i] == \"ellipse\":\n",
    "            full_mask = add_nodes(offsetEquation(node_x_list[i]),\\\n",
    "                                     offsetEquation(offset_y-node_y_list[i]),\\\n",
    "                                     node_rx_list[i],\\\n",
    "                                     node_ry_list[i], np.array(full_mask))\n",
    "        else:\n",
    "            full_mask = add_boxes(offsetEquation(node_x_list[i]),\\\n",
    "                                     offsetEquation(offset_y-node_y_list[i]),\\\n",
    "                                     node_rx_list[i],\\\n",
    "                                     node_ry_list[i], np.array(full_mask))\n",
    "\n",
    "#     new_image = Image.fromarray(np.uint8(node_box_mask)*255)\n",
    "#     new_image.save(\"mask_data/\" + str(file_id) + \"_box.png\")\n",
    "    \n",
    "    stack = np.stack((node_box_mask, node_elliptical_mask, full_mask, edge_mask), axis=-1)\n",
    "    new_image = Image.fromarray(np.uint8(stack*255))\n",
    "    new_image.save(\"mask_data/\" + str(file_id) + \".png\")\n",
    "    \n",
    "#     new_image = Image.fromarray(np.uint8(edge_mask)*255)\n",
    "#     new_image.save(\"mask_data/\" + str(file_id) + \"_edge\" + \".png\")\n",
    "\n",
    "#     new_image = Image.fromarray(np.uint8(node_elliptical_mask)*255)\n",
    "#     new_image.save(\"mask_data/\" + str(file_id) + \"_ellipse\" + \".png\")\n",
    "    \n",
    "#     new_image = Image.fromarray(np.uint8((full_mask)*255))\n",
    "    \n",
    "#     new_image.save(\"mask_data/\" + str(file_id) + \"_background\" + \".png\")"
   ]
  },
  {
   "cell_type": "code",
   "execution_count": 41,
   "metadata": {},
   "outputs": [],
   "source": []
  },
  {
   "cell_type": "code",
   "execution_count": null,
   "metadata": {},
   "outputs": [],
   "source": []
  }
 ],
 "metadata": {
  "kernelspec": {
   "display_name": "CS6476",
   "language": "python",
   "name": "cs6476"
  },
  "language_info": {
   "codemirror_mode": {
    "name": "ipython",
    "version": 3
   },
   "file_extension": ".py",
   "mimetype": "text/x-python",
   "name": "python",
   "nbconvert_exporter": "python",
   "pygments_lexer": "ipython3",
   "version": "3.7.6"
  }
 },
 "nbformat": 4,
 "nbformat_minor": 4
}
