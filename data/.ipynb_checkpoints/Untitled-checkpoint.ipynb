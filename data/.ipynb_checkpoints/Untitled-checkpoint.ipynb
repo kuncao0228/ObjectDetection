{
 "cells": [
  {
   "cell_type": "code",
   "execution_count": 1,
   "metadata": {},
   "outputs": [],
   "source": [
    "import graphviz\n",
    "from graphviz import Digraph\n",
    "import csv\n",
    "import numpy as np\n",
    "from PIL import Image"
   ]
  },
  {
   "cell_type": "code",
   "execution_count": 39,
   "metadata": {},
   "outputs": [
    {
     "data": {
      "text/plain": [
       "'test.plain'"
      ]
     },
     "execution_count": 39,
     "metadata": {},
     "output_type": "execute_result"
    }
   ],
   "source": [
    "diGraph = Digraph(format='plain')\n",
    "diGraph.node('1', 'hello')\n",
    "diGraph.node('2', 'hi there')\n",
    "diGraph.node('3', 'ho there')\n",
    "\n",
    "diGraph.edges(['12'])\n",
    "diGraph.edges(['23'])\n",
    "diGraph.render('test', view=False) "
   ]
  },
  {
   "cell_type": "code",
   "execution_count": 61,
   "metadata": {},
   "outputs": [],
   "source": [
    "\n",
    "def remove(cx, cy, rx, ry, temp):\n",
    "    image_array = temp.copy()\n",
    "    start_x = int(cx- rx) -1\n",
    "    end_x = int(cx + rx) + 1\n",
    "    start_y = int(cy - ry)-1\n",
    "    end_y = int(cy + ry)+1\n",
    "#     pdb.set_trace()\n",
    "    image_array[start_y:end_y, start_x:end_x] = True\n",
    "    \n",
    "    \n",
    "    return image_array\n",
    "def offsetEquation(graphY):\n",
    "    return int(graphY * 96 + 5.5)"
   ]
  },
  {
   "cell_type": "code",
   "execution_count": 58,
   "metadata": {},
   "outputs": [
    {
     "name": "stdout",
     "output_type": "stream",
     "text": [
      "(114, 251)\n"
     ]
    }
   ],
   "source": [
    "im = Image.open('test.png')\n",
    "im = im.convert('1')\n",
    "# im.show()\n",
    "print(im.size)\n"
   ]
  },
  {
   "cell_type": "code",
   "execution_count": 72,
   "metadata": {},
   "outputs": [
    {
     "name": "stdout",
     "output_type": "stream",
     "text": [
      "[[ True  True  True ...  True  True  True]\n",
      " [ True  True  True ...  True  True  True]\n",
      " [ True  True  True ...  True  True  True]\n",
      " ...\n",
      " [ True  True  True ...  True  True  True]\n",
      " [ True  True  True ...  True  True  True]\n",
      " [ True  True  True ...  True  True  True]]\n"
     ]
    }
   ],
   "source": [
    "print(np.array(im))\n",
    "new_array = remove(57, 254-225, 39, 25, np.array(im))\n",
    "new_array = remove(57, 125, 52, 25, np.array(new_array))\n",
    "new_array = remove(57, 221, 54, 25, np.array(new_array))\n"
   ]
  },
  {
   "cell_type": "code",
   "execution_count": 73,
   "metadata": {},
   "outputs": [
    {
     "data": {
      "image/png": "[encoded data removed]",
      "text/plain": [
       "<PIL.Image.Image image mode=L size=114x251 at 0x1134E9A58>"
      ]
     },
     "execution_count": 73,
     "metadata": {},
     "output_type": "execute_result"
    }
   ],
   "source": [
    "Image.fromarray(np.uint8(new_array)*255)"
   ]
  },
  {
   "cell_type": "code",
   "execution_count": null,
   "metadata": {},
   "outputs": [],
   "source": []
  }
 ],
 "metadata": {
  "kernelspec": {
   "display_name": "Python 3",
   "language": "python",
   "name": "python3"
  },
  "language_info": {
   "codemirror_mode": {
    "name": "ipython",
    "version": 3
   },
   "file_extension": ".py",
   "mimetype": "text/x-python",
   "name": "python",
   "nbconvert_exporter": "python",
   "pygments_lexer": "ipython3",
   "version": "3.7.3"
  }
 },
 "nbformat": 4,
 "nbformat_minor": 2
}
