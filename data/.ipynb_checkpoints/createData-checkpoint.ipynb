{
 "cells": [
  {
   "cell_type": "code",
   "execution_count": 8,
   "metadata": {},
   "outputs": [
    {
     "name": "stdout",
     "output_type": "stream",
     "text": [
      "The autoreload extension is already loaded. To reload it, use:\n",
      "  %reload_ext autoreload\n"
     ]
    }
   ],
   "source": [
    "import graphviz\n",
    "from graphviz import Digraph\n",
    "import csv\n",
    "import numpy as np\n",
    "import util\n",
    "from util import createGraph\n",
    "from util import parsePlainFile\n",
    "from util import remove_nodes\n",
    "from util import add_nodes\n",
    "from util import offsetEquation\n",
    "import os\n",
    "from PIL import Image\n",
    "\n",
    "%load_ext autoreload\n",
    "%autoreload 2"
   ]
  },
  {
   "cell_type": "code",
   "execution_count": 2,
   "metadata": {},
   "outputs": [
    {
     "name": "stderr",
     "output_type": "stream",
     "text": [
      "[nltk_data] Downloading package words to /Users/shivam/nltk_data...\n",
      "[nltk_data]   Package words is already up-to-date!\n"
     ]
    }
   ],
   "source": [
    "import nltk\n",
    "nltk.download('words')\n",
    "from nltk.corpus import words\n",
    "word_list = words.words()"
   ]
  },
  {
   "cell_type": "code",
   "execution_count": 3,
   "metadata": {},
   "outputs": [],
   "source": [
    "if not os.path.isdir('data'):\n",
    "    os.mkdir('data')\n",
    "    \n",
    "if not os.path.isdir('descriptions'):\n",
    "    os.mkdir('descriptions')\n",
    "\n",
    "if not os.path.isdir('plain_data'):\n",
    "    os.mkdir('plain_data')\n",
    "    \n",
    "if not os.path.isdir('edge_data'):\n",
    "    os.mkdir('edge_data')"
   ]
  },
  {
   "cell_type": "code",
   "execution_count": 4,
   "metadata": {},
   "outputs": [],
   "source": [
    "maxNodes = 8\n",
    "count = 0\n",
    "NO_Samples = 4\n",
    "for i in range(5, maxNodes):\n",
    "    for j in range(NO_Samples):\n",
    "        ranInts = np.random.randint(len(word_list), size=i)\n",
    "        word_list = np.asarray(word_list)\n",
    "        words = word_list[ranInts]\n",
    "        createGraph(words, count)\n",
    "        count += 1"
   ]
  },
  {
   "cell_type": "code",
   "execution_count": 5,
   "metadata": {},
   "outputs": [],
   "source": [
    "for i in os.listdir('data'):\n",
    "    if \".png\" not in i:\n",
    "        os.remove(os.path.join('data', i))\n",
    "        \n",
    "for i in os.listdir('plain_data'):\n",
    "    if \".plain\" not in i:\n",
    "        os.remove(os.path.join('plain_data', i))"
   ]
  },
  {
   "cell_type": "code",
   "execution_count": 22,
   "metadata": {},
   "outputs": [],
   "source": [
    "for i in os.listdir('plain_data'):\n",
    "    file_id = i.split(\".\")[0]\n",
    "    \n",
    "    filePath = os.path.join('plain_data', i)\n",
    "    offset_y, node_x_list, node_y_list, node_rx_list, node_ry_list = util.parsePlainFile(filePath)\n",
    "    \n",
    "    graphFile = os.path.join('data', str(file_id) + \".png\")\n",
    "    im = Image.open(graphFile)\n",
    "    im = im.convert('1')\n",
    "    edge_array = im\n",
    "    for i in range(len(node_x_list)):\n",
    "        edge_array = remove_nodes(offsetEquation(node_x_list[i]),\\\n",
    "                                 offsetEquation(offset_y-node_y_list[i]),\\\n",
    "                                 node_rx_list[i],\\\n",
    "                                 node_ry_list[i], np.array(edge_array))\n",
    "    edge_mask = 1 - np.uint8(edge_array)\n",
    "    \n",
    "    full_mask = im\n",
    "    for i in range(len(node_x_list)):\n",
    "        full_mask = add_nodes(offsetEquation(node_x_list[i]),\\\n",
    "                                 offsetEquation(offset_y-node_y_list[i]),\\\n",
    "                                 node_rx_list[i],\\\n",
    "                                 node_ry_list[i], np.array(full_mask))\n",
    "    node_mask = 1 - (np.uint8(edge_array) - np.uint8(full_mask))\n",
    "\n",
    "    total_mask = np.vstack((np.uint8(full_mask),edge_mask, node_mask))\n",
    "    new_image = Image.fromarray(np.uint8(total_mask)*255)\n",
    "    new_image.save(\"temp.png\")\n",
    "#     new_image.save(\"edge_data/\" + str(file_id) + \".png\")\n",
    "    break"
   ]
  },
  {
   "cell_type": "code",
   "execution_count": null,
   "metadata": {},
   "outputs": [],
   "source": []
  }
 ],
 "metadata": {
  "kernelspec": {
   "display_name": "CS6476",
   "language": "python",
   "name": "cs6476"
  },
  "language_info": {
   "codemirror_mode": {
    "name": "ipython",
    "version": 3
   },
   "file_extension": ".py",
   "mimetype": "text/x-python",
   "name": "python",
   "nbconvert_exporter": "python",
   "pygments_lexer": "ipython3",
   "version": "3.7.6"
  }
 },
 "nbformat": 4,
 "nbformat_minor": 4
}
