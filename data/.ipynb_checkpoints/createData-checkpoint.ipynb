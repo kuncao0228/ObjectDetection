{
 "cells": [
  {
   "cell_type": "code",
   "execution_count": 2,
   "metadata": {},
   "outputs": [],
   "source": [
    "import graphviz\n",
    "from graphviz import Digraph\n",
    "import csv\n",
    "import numpy as np"
   ]
  },
  {
   "cell_type": "code",
   "execution_count": 3,
   "metadata": {},
   "outputs": [
    {
     "name": "stderr",
     "output_type": "stream",
     "text": [
      "[nltk_data] Downloading package words to /Users/kuncao/nltk_data...\n",
      "[nltk_data]   Package words is already up-to-date!\n"
     ]
    }
   ],
   "source": [
    "import nltk\n",
    "nltk.download('words')\n",
    "from nltk.corpus import words\n",
    "word_list = words.words()\n"
   ]
  },
  {
   "cell_type": "code",
   "execution_count": 4,
   "metadata": {},
   "outputs": [],
   "source": [
    "def createGraph(word_list, file_id):\n",
    "    createEdgeProbability = .65\n",
    "    diGraph = Digraph(format='png')\n",
    "    id_list = []\n",
    "    for i in range(len(word_list)):\n",
    "        diGraph.node(str(i), word_list[i])\n",
    "        id_list.append(i)\n",
    "    \n",
    "    edge_hashList = []\n",
    "    pair_wordList = []\n",
    "    if len(id_list) > 1:\n",
    "        for i in range(len(id_list)):\n",
    "            for j in range(len(id_list)):\n",
    "                reverse_edgeID = str(j) + str(i)\n",
    "                current_edgeID = str(i) + str(j)\n",
    "                words = word_list[i] + \" to \" + word_list[j]\n",
    "                if i != j and np.random.uniform() > createEdgeProbability and reverse_edgeID not in edge_hashList and \\\n",
    "                current_edgeID not in edge_hashList:\n",
    "                    edge_hashList.append(current_edgeID)\n",
    "                    pair_wordList.append(words)\n",
    "    diGraph.edges(edge_hashList)\n",
    "    f = open('descriptions/' + str(file_id) + \".txt\", \"w\")\n",
    "    for i in pair_wordList:\n",
    "        f.write(i)\n",
    "        f.write(\"\\n\")\n",
    "    f.close()\n",
    "    \n",
    "    diGraph.render('data/' + str(file_id), view=False)  \n"
   ]
  },
  {
   "cell_type": "code",
   "execution_count": 6,
   "metadata": {},
   "outputs": [],
   "source": [
    "maxNodes = 8\n",
    "count = 0\n",
    "NO_Samples = 30\n",
    "for i in range(2, maxNodes):\n",
    "    for j in range(NO_Samples):\n",
    "        ranInts = np.random.randint(len(word_list), size=i)\n",
    "        word_list = np.asarray(word_list)\n",
    "        words = word_list[ranInts]\n",
    "        createGraph(words, count)\n",
    "        count += 1"
   ]
  },
  {
   "cell_type": "code",
   "execution_count": 7,
   "metadata": {},
   "outputs": [
    {
     "name": "stdout",
     "output_type": "stream",
     "text": [
      "mkdir: graph_images: File exists\n"
     ]
    }
   ],
   "source": [
    "! mkdir graph_images"
   ]
  },
  {
   "cell_type": "code",
   "execution_count": 8,
   "metadata": {},
   "outputs": [],
   "source": [
    "!cp data/*.png graph_images/\n",
    "# rsync -r --include='*.png' --exclude='*' . ../final_full"
   ]
  },
  {
   "cell_type": "code",
   "execution_count": null,
   "metadata": {},
   "outputs": [],
   "source": []
  }
 ],
 "metadata": {
  "kernelspec": {
   "display_name": "Python 3",
   "language": "python",
   "name": "python3"
  },
  "language_info": {
   "codemirror_mode": {
    "name": "ipython",
    "version": 3
   },
   "file_extension": ".py",
   "mimetype": "text/x-python",
   "name": "python",
   "nbconvert_exporter": "python",
   "pygments_lexer": "ipython3",
   "version": "3.7.3"
  }
 },
 "nbformat": 4,
 "nbformat_minor": 2
}
