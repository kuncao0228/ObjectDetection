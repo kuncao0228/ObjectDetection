{
 "cells": [
  {
   "cell_type": "code",
   "execution_count": 15,
   "metadata": {},
   "outputs": [
    {
     "name": "stdout",
     "output_type": "stream",
     "text": [
      "The autoreload extension is already loaded. To reload it, use:\n",
      "  %reload_ext autoreload\n"
     ]
    }
   ],
   "source": [
    "import graphviz\n",
    "from graphviz import Digraph\n",
    "import csv\n",
    "import numpy as np\n",
    "import util\n",
    "from util import createGraph\n",
    "from util import parsePlainFile\n",
    "from util import remove_nodes\n",
    "from util import offsetEquation\n",
    "import os\n",
    "from PIL import Image\n",
    "\n",
    "%load_ext autoreload\n",
    "%autoreload 2"
   ]
  },
  {
   "cell_type": "code",
   "execution_count": 16,
   "metadata": {},
   "outputs": [
    {
     "name": "stderr",
     "output_type": "stream",
     "text": [
      "[nltk_data] Downloading package words to /Users/kuncao/nltk_data...\n",
      "[nltk_data]   Package words is already up-to-date!\n"
     ]
    }
   ],
   "source": [
    "import nltk\n",
    "nltk.download('words')\n",
    "from nltk.corpus import words\n",
    "word_list = words.words()"
   ]
  },
  {
   "cell_type": "code",
   "execution_count": 17,
   "metadata": {},
   "outputs": [],
   "source": [
    "if not os.path.isdir('data'):\n",
    "    os.mkdir('data')\n",
    "    \n",
    "if not os.path.isdir('descriptions'):\n",
    "    os.mkdir('descriptions')\n",
    "\n",
    "if not os.path.isdir('plain_data'):\n",
    "    os.mkdir('plain_data')\n",
    "    \n",
    "if not os.path.isdir('edge_data'):\n",
    "    os.mkdir('edge_data')"
   ]
  },
  {
   "cell_type": "code",
   "execution_count": 18,
   "metadata": {},
   "outputs": [],
   "source": [
    "maxNodes = 8\n",
    "count = 0\n",
    "NO_Samples = 4\n",
    "for i in range(5, maxNodes):\n",
    "    for j in range(NO_Samples):\n",
    "        ranInts = np.random.randint(len(word_list), size=i)\n",
    "        word_list = np.asarray(word_list)\n",
    "        words = word_list[ranInts]\n",
    "        createGraph(words, count)\n",
    "        count += 1"
   ]
  },
  {
   "cell_type": "code",
   "execution_count": 19,
   "metadata": {},
   "outputs": [],
   "source": [
    "for i in os.listdir('data'):\n",
    "    if \".png\" not in i:\n",
    "        os.remove(os.path.join('data', i))\n",
    "        \n",
    "for i in os.listdir('plain_data'):\n",
    "    if \".plain\" not in i:\n",
    "        os.remove(os.path.join('plain_data', i))"
   ]
  },
  {
   "cell_type": "code",
   "execution_count": 21,
   "metadata": {},
   "outputs": [],
   "source": [
    "for i in os.listdir('plain_data'):\n",
    "    file_id = i.split(\".\")[0]\n",
    "    \n",
    "    filePath = os.path.join('plain_data', i)\n",
    "    offset_y, node_x_list, node_y_list, node_rx_list, node_ry_list = util.parsePlainFile(filePath)\n",
    "    \n",
    "    graphFile = os.path.join('data', str(file_id) + \".png\")\n",
    "    im = Image.open(graphFile)\n",
    "    im = im.convert('1')\n",
    "    new_array = im\n",
    "    for i in range(len(node_x_list)):\n",
    "        new_array = remove_nodes(offsetEquation(node_x_list[i]),\\\n",
    "                                 offsetEquation(offset_y-node_y_list[i]),\\\n",
    "                                 node_rx_list[i],\\\n",
    "                                 node_ry_list[i], np.array(new_array))\n",
    "    new_image = Image.fromarray(np.uint8(new_array)*255)\n",
    "    new_image.save(\"edge_data/\" + str(file_id) + \".png\")\n",
    "        "
   ]
  }
 ],
 "metadata": {
  "kernelspec": {
   "display_name": "Python 3",
   "language": "python",
   "name": "python3"
  },
  "language_info": {
   "codemirror_mode": {
    "name": "ipython",
    "version": 3
   },
   "file_extension": ".py",
   "mimetype": "text/x-python",
   "name": "python",
   "nbconvert_exporter": "python",
   "pygments_lexer": "ipython3",
   "version": "3.7.3"
  }
 },
 "nbformat": 4,
 "nbformat_minor": 2
}
