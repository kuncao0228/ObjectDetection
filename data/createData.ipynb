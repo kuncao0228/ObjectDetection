{
 "cells": [
  {
   "cell_type": "code",
   "execution_count": 3,
   "metadata": {},
   "outputs": [
    {
     "name": "stdout",
     "output_type": "stream",
     "text": [
      "The autoreload extension is already loaded. To reload it, use:\n",
      "  %reload_ext autoreload\n"
     ]
    }
   ],
   "source": [
    "import graphviz\n",
    "from graphviz import Digraph\n",
    "import csv\n",
    "import numpy as np\n",
    "import util\n",
    "from util import createGraph\n",
    "from util import parsePlainFile\n",
    "from util import remove_nodes\n",
    "from util import add_nodes\n",
    "from util import offsetEquation\n",
    "import os\n",
    "from PIL import Image\n",
    "import matplotlib.pyplot as plt\n",
    "\n",
    "%load_ext autoreload\n",
    "%autoreload 2"
   ]
  },
  {
   "cell_type": "code",
   "execution_count": 4,
   "metadata": {},
   "outputs": [
    {
     "name": "stderr",
     "output_type": "stream",
     "text": [
      "[nltk_data] Downloading package words to /Users/kuncao/nltk_data...\n",
      "[nltk_data]   Package words is already up-to-date!\n"
     ]
    }
   ],
   "source": [
    "import nltk\n",
    "nltk.download('words')\n",
    "from nltk.corpus import words\n",
    "word_list = words.words()"
   ]
  },
  {
   "cell_type": "code",
   "execution_count": 5,
   "metadata": {},
   "outputs": [],
   "source": [
    "if not os.path.isdir('data'):\n",
    "    os.mkdir('data')\n",
    "    \n",
    "if not os.path.isdir('descriptions'):\n",
    "    os.mkdir('descriptions')\n",
    "\n",
    "if not os.path.isdir('plain_data'):\n",
    "    os.mkdir('plain_data')\n",
    "    \n",
    "if not os.path.isdir('edge_data'):\n",
    "    os.mkdir('edge_data')\n",
    "    \n",
    "if not os.path.isdir('mask_data'):\n",
    "    os.mkdir('mask_data')"
   ]
  },
  {
   "cell_type": "code",
   "execution_count": 7,
   "metadata": {},
   "outputs": [
    {
     "name": "stdout",
     "output_type": "stream",
     "text": [
      "validation/node2_1\n",
      "validation/node2_25\n",
      "validation/node2_5\n",
      "validation/node3_1\n",
      "validation/node3_25\n",
      "validation/node3_5\n",
      "validation/node4_1\n",
      "validation/node4_25\n",
      "validation/node4_5\n",
      "validation/node5_1\n",
      "validation/node5_25\n",
      "validation/node5_5\n",
      "validation/node6_1\n",
      "validation/node6_25\n",
      "validation/node6_5\n",
      "validation/node7_1\n",
      "validation/node7_25\n",
      "validation/node7_5\n"
     ]
    }
   ],
   "source": [
    "minNodes = 2\n",
    "maxNodes = 8\n",
    "count = 0\n",
    "NO_Samples = 100\n",
    "\n",
    "edgeList = [.1, .25, .5]\n",
    "edgeVALUEMAP = [1,25,5]\n",
    "indexCount = 0\n",
    "for i in range(minNodes, maxNodes):\n",
    "    for k in range(len(edgeList)):\n",
    "        for j in range(NO_Samples):\n",
    "            ranInts = np.random.randint(len(word_list), size=i)\n",
    "            word_list = np.asarray(word_list)\n",
    "            words = word_list[ranInts]\n",
    "            createGraph(words, count, edgeList[k])\n",
    "            count += 1\n",
    "            \n",
    "        \n",
    "        foldername = 'validation/node'+str(i) + '_' + str(edgeVALUEMAP[k])\n",
    "        print(foldername)\n",
    "        if not os.path.isdir(foldername):\n",
    "            os.mkdir(foldername)     \n",
    "        for file in os.listdir('data'):\n",
    "            if \".png\" in file:\n",
    "                os.rename(os.path.join('data', file), os.path.join(foldername, file))\n",
    "    \n",
    "\n",
    "\n",
    "            \n",
    "\n",
    "            "
   ]
  },
  {
   "cell_type": "code",
   "execution_count": 34,
   "metadata": {},
   "outputs": [],
   "source": [
    "for i in os.listdir('data'):\n",
    "    if \".png\" not in i:\n",
    "        os.remove(os.path.join('data', i))\n",
    "        \n",
    "for i in os.listdir('plain_data'):\n",
    "    if \".plain\" not in i:\n",
    "        os.remove(os.path.join('plain_data', i))"
   ]
  },
  {
   "cell_type": "code",
   "execution_count": 15,
   "metadata": {},
   "outputs": [],
   "source": [
    "for i in os.listdir('plain_data'):\n",
    "\n",
    "#     print (i)\n",
    "    file_id = i.split(\".\")[0]\n",
    "    \n",
    "    filePath = os.path.join('plain_data', i)\n",
    "    offset_y, node_x_list, node_y_list, node_rx_list, node_ry_list, __ = util.parsePlainFile(filePath)\n",
    "    \n",
    "    graphFile = os.path.join('data', str(file_id) + \".png\")\n",
    "    im = Image.open(graphFile)\n",
    "    im = im.convert('1')\n",
    "    edge_array = im\n",
    "    for i in range(len(node_x_list)):\n",
    "        edge_array = remove_nodes(offsetEquation(node_x_list[i]),\\\n",
    "                                 offsetEquation(offset_y-node_y_list[i]),\\\n",
    "                                 node_rx_list[i],\\\n",
    "                                 node_ry_list[i], np.array(edge_array))\n",
    "    edge_mask = 1 - np.uint8(edge_array)\n",
    "    \n",
    "    full_mask = im\n",
    "    for i in range(len(node_x_list)):\n",
    "        full_mask = add_nodes(offsetEquation(node_x_list[i]),\\\n",
    "                                 offsetEquation(offset_y-node_y_list[i]),\\\n",
    "                                 node_rx_list[i],\\\n",
    "                                 node_ry_list[i], np.array(full_mask))\n",
    "    node_mask = np.uint8(edge_array) - np.uint8(full_mask)\n",
    "    \n",
    "    \n",
    "\n",
    "    new_image = Image.fromarray(np.uint8(node_mask)*255)\n",
    "    new_image.save(\"mask_data/\" + str(file_id) + \".png\")\n",
    "    \n",
    "    stack = np.stack((node_mask, edge_mask, full_mask), axis=-1)\n",
    "    new_image = Image.fromarray(np.uint8(stack)*255)\n",
    "    new_image.save(\"mask_data/\" + str(file_id) + \".png\")\n",
    "    \n",
    "    new_image = Image.fromarray(np.uint8(edge_mask)*255)\n",
    "    new_image.save(\"mask_data/\" + str(file_id) + \"_edge\" + \".png\")\n",
    "\n",
    "    new_image = Image.fromarray(np.uint8(node_mask)*255)\n",
    "    new_image.save(\"mask_data/\" + str(file_id) + \"_node\" + \".png\")\n",
    "    \n",
    "    temp_mask = np.uint8(node_mask) + np.uint8(edge_mask)\n",
    "    new_image = Image.fromarray(np.uint8(temp_mask)*255)\n",
    "    new_image.save(\"mask_data/\" + str(file_id) + \"_combined\" + \".png\")"
   ]
  },
  {
   "cell_type": "code",
   "execution_count": 22,
   "metadata": {},
   "outputs": [
    {
     "data": {
      "text/plain": [
       "<matplotlib.image.AxesImage at 0x1195a8550>"
      ]
     },
     "execution_count": 22,
     "metadata": {},
     "output_type": "execute_result"
    },
    {
     "data": {
      "image/png": "[encoded data removed]",
      "text/plain": [
       "<Figure size 432x288 with 1 Axes>"
      ]
     },
     "metadata": {
      "needs_background": "light"
     },
     "output_type": "display_data"
    }
   ],
   "source": [
    "plt.imshow(node_mask, cmap=\"gray\")"
   ]
  },
  {
   "cell_type": "code",
   "execution_count": 23,
   "metadata": {},
   "outputs": [
    {
     "data": {
      "text/plain": [
       "<matplotlib.image.AxesImage at 0x119568b00>"
      ]
     },
     "execution_count": 23,
     "metadata": {},
     "output_type": "execute_result"
    },
    {
     "data": {
      "image/png": "[encoded data removed]",
      "text/plain": [
       "<Figure size 432x288 with 1 Axes>"
      ]
     },
     "metadata": {
      "needs_background": "light"
     },
     "output_type": "display_data"
    }
   ],
   "source": [
    "plt.imshow(full_mask, cmap=\"gray\")"
   ]
  },
  {
   "cell_type": "code",
   "execution_count": null,
   "metadata": {},
   "outputs": [],
   "source": []
  }
 ],
 "metadata": {
  "kernelspec": {
   "display_name": "Python [conda env:CVpy3] *",
   "language": "python",
   "name": "conda-env-CVpy3-py"
  },
  "language_info": {
   "codemirror_mode": {
    "name": "ipython",
    "version": 3
   },
   "file_extension": ".py",
   "mimetype": "text/x-python",
   "name": "python",
   "nbconvert_exporter": "python",
   "pygments_lexer": "ipython3",
   "version": "3.7.3"
  }
 },
 "nbformat": 4,
 "nbformat_minor": 4
}
