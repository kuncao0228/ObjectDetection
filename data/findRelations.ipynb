{
 "cells": [
  {
   "cell_type": "code",
   "execution_count": 1,
   "metadata": {},
   "outputs": [],
   "source": [
    "import cv2 as cv\n",
    "import sys"
   ]
  },
  {
   "cell_type": "code",
   "execution_count": 2,
   "metadata": {},
   "outputs": [],
   "source": [
    "full_mask = cv.imread(\"mask_data/0_combined.png\",0)\n",
    "node_mask = cv.imread(\"mask_data/0_node.png\",0)\n",
    "edge_mask = cv.imread(\"mask_data/0_edge.png\",0)"
   ]
  },
  {
   "cell_type": "code",
   "execution_count": 3,
   "metadata": {},
   "outputs": [
    {
     "name": "stdout",
     "output_type": "stream",
     "text": [
      "(155, 145)\n",
      "<class 'numpy.ndarray'>\n"
     ]
    }
   ],
   "source": [
    "print(full_mask.shape)\n",
    "print(type(full_mask))"
   ]
  },
  {
   "cell_type": "code",
   "execution_count": 4,
   "metadata": {},
   "outputs": [],
   "source": [
    "\n",
    "def isSafe(mask, i, j, visited):\n",
    "        # row number is in range, column number\n",
    "        # is in range and value is 1\n",
    "        # and not yet visited\n",
    "        return (i >= 0 and i < mask.shape[0] and\n",
    "                j >= 0 and j < mask.shape[1] and\n",
    "                not visited[i][j] and mask[i][j]==255)\n",
    "\n",
    "def DFS(mask,i,j,visited, dictionary):            # prints all vertices in DFS manner from a given source.\n",
    "                                # Initially mark all verices as not visited\n",
    "        # Create a stack for DFS\n",
    "        stack = []\n",
    "\n",
    "        # Push the current source node.\n",
    "        stack.append((i,j))\n",
    "        rowNbr = [-1, -1, -1, 0, 0,  1, 1, 1]\n",
    "        colNbr = [-1,  0,  1, -1, 1, -1, 0, 1]\n",
    "        left_coord = sys.maxsize\n",
    "        right_coord = -sys.maxsize -1\n",
    "        bot_coord = -sys.maxsize -1\n",
    "        top_coord = sys.maxsize\n",
    "        dictionary[len(dictionary)] = []\n",
    "        while (len(stack)):\n",
    "            # Pop a vertex from stack and print it\n",
    "            s = stack[-1]\n",
    "            stack.pop()\n",
    "\n",
    "            # Stack may contain same vertex twice. So\n",
    "            # we need to print the popped item only\n",
    "            # if it is not visited.\n",
    "            if (not visited[s[0]][s[1]]):\n",
    "                if s[1]< left_coord:\n",
    "                    left_coord = s[1]\n",
    "                if s[1]> right_coord:\n",
    "                    right_coord = s[1]\n",
    "                if s[0]< top_coord:\n",
    "                    top_coord = s[0]\n",
    "                if s[0] > bot_coord:\n",
    "                    bot_coord = s[0]\n",
    "                visited[s[0]][s[1]] = True\n",
    "                dictionary[len(dictionary) - 1].append((s[0],s[1]))\n",
    "                \n",
    "\n",
    "            # Get all adjacent vertices of the popped vertex s\n",
    "            # If a adjacent has not been visited, then push it\n",
    "            # to the stack.\n",
    "\n",
    "            for k in range(8):\n",
    "                if isSafe(mask, s[0] + rowNbr[k], s[1] + colNbr[k], visited):\n",
    "                    stack.append((s[0] + rowNbr[k], s[1] + colNbr[k]))\n",
    "\n",
    "        return (left_coord,right_coord, top_coord, bot_coord)\n",
    "\n",
    "def countIslands(mask, dictionary):\n",
    "    # Make a bool array to mark visited cells.\n",
    "    # Initially all cells are unvisited\n",
    "    visited = [[False for j in range(mask.shape[1])]for i in range(mask.shape[0])]\n",
    "\n",
    "    # Initialize count as 0 and travese\n",
    "    # through the all cells of\n",
    "    # given matrix\n",
    "    count = 0\n",
    "    islands = []\n",
    "    for i in range(mask.shape[0]):\n",
    "        for j in range(mask.shape[1]):\n",
    "            # If a cell with value 1 is not visited yet,\n",
    "            # then new island found\n",
    "            if visited[i][j] == False and mask[i][j] == 255:\n",
    "                count += 1\n",
    "                coord = DFS(mask, i, j, visited, dictionary)\n",
    "                islands.append(coord)\n",
    "    return islands, dictionary"
   ]
  },
  {
   "cell_type": "code",
   "execution_count": 5,
   "metadata": {},
   "outputs": [
    {
     "name": "stdout",
     "output_type": "stream",
     "text": [
      "2\n",
      "2\n"
     ]
    }
   ],
   "source": [
    "node_dict = {}\n",
    "islands, dictionary = countIslands(node_mask, node_dict)\n",
    "edge_dict = {}\n",
    "islands, edge_dict = countIslands(node_mask, edge_dict)\n",
    "\n",
    "print(len(edge_dict))\n",
    "print(len(node_dict))"
   ]
  },
  {
   "cell_type": "code",
   "execution_count": null,
   "metadata": {},
   "outputs": [],
   "source": []
  }
 ],
 "metadata": {
  "kernelspec": {
   "display_name": "Python [conda env:CVpy3] *",
   "language": "python",
   "name": "conda-env-CVpy3-py"
  },
  "language_info": {
   "codemirror_mode": {
    "name": "ipython",
    "version": 3
   },
   "file_extension": ".py",
   "mimetype": "text/x-python",
   "name": "python",
   "nbconvert_exporter": "python",
   "pygments_lexer": "ipython3",
   "version": "3.7.3"
  }
 },
 "nbformat": 4,
 "nbformat_minor": 2
}
